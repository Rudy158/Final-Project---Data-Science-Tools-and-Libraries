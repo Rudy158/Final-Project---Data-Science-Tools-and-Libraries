{
 "cells": [
  {
   "cell_type": "markdown",
   "id": "baa1ac8c-86d1-4c88-a24f-ad1685e81382",
   "metadata": {},
   "source": [
    "# Final Project - Data Science Tools and Libraries #"
   ]
  },
  {
   "cell_type": "markdown",
   "id": "837ce516-a0f0-4a6c-bd26-8d3a1ba309fb",
   "metadata": {},
   "source": [
    "## Introduction ##\n",
    "This notebook summarizes key concepts and tools in Data Science learned throughout this course."
   ]
  },
  {
   "cell_type": "markdown",
   "id": "eed9b4da-acc8-4906-a435-65916049a48d",
   "metadata": {},
   "source": [
    "## Data Science Languajes ##\n",
    "\n",
    "1. Python\n",
    "2. R\n",
    "3. SQL\n",
    "4. Julia\n",
    "5. Scala\n"
   ]
  },
  {
   "cell_type": "markdown",
   "id": "b64e77a9-b8c5-421b-a3d5-0989df034ccc",
   "metadata": {},
   "source": [
    "## Data Science Libraries ##\n",
    "- Pandas\n",
    "- NumPy\n",
    "- Matplotlib\n",
    "- Scikit-learn\n",
    "- TensorFlow\n"
   ]
  },
  {
   "cell_type": "markdown",
   "id": "c0b64286-5cbc-4240-ac8a-cc815af48f0e",
   "metadata": {},
   "source": [
    "## Data Science Tools ##\n",
    "| Tools | Purpose |\n",
    "| ----- | ------- |\n",
    "| Jupyter | Interective notebooks |\n",
    "| RStudio | IDE for R |\n",
    "| Apache Spark | Big Data processing |\n",
    "| Tableau | Data Visualization |"
   ]
  },
  {
   "cell_type": "markdown",
   "id": "9a7627f8-0200-4dc1-bb0a-5d670639fcc9",
   "metadata": {},
   "source": [
    "## Arithmetic Expressions ##\n",
    "Examples of basic arithmetic:\n",
    "- Addition: (2 + 3 = 5)\n",
    "- subtraction: (3 - 1 = 2) \n",
    "- Multiplication: (4 x 5 = 20)\n",
    "- division (10 / 2 = 5)\n",
    "\n"
   ]
  },
  {
   "cell_type": "code",
   "execution_count": 4,
   "id": "2f02bdcb-666a-4d27-a241-2b2a5f89000d",
   "metadata": {},
   "outputs": [
    {
     "data": {
      "text/plain": [
       "105"
      ]
     },
     "execution_count": 4,
     "metadata": {},
     "output_type": "execute_result"
    }
   ],
   "source": [
    " # Multiplication and addition example #\n",
    "result = (10 * 10 ) + 5\n",
    "result"
   ]
  },
  {
   "cell_type": "code",
   "execution_count": 5,
   "id": "eedcd28a-a97a-4f04-a0a6-f53c75ce528e",
   "metadata": {},
   "outputs": [
    {
     "data": {
      "text/plain": [
       "3.5"
      ]
     },
     "execution_count": 5,
     "metadata": {},
     "output_type": "execute_result"
    }
   ],
   "source": [
    "# Convert minutes to hours # \n",
    "minutes = 210\n",
    "hours = minutes / 60\n",
    "hours \n"
   ]
  },
  {
   "cell_type": "code",
   "execution_count": 10,
   "id": "31161b46-a2de-4185-8723-ed9923c43690",
   "metadata": {},
   "outputs": [
    {
     "name": "stdout",
     "output_type": "stream",
     "text": [
      "-Learn key Data Science tools\n",
      "-Understand libraries\n",
      "-Practice coding skills\n"
     ]
    }
   ],
   "source": [
    "# Goals for this notebook #\n",
    "goals = [\"Learn key Data Science tools\", \"Understand libraries\", \"Practice coding skills\"]\n",
    "for goal in goals:\n",
    "    print (f\"-{goal}\")"
   ]
  },
  {
   "cell_type": "markdown",
   "id": "119a0c26-624e-445b-89e5-47c8e3214a41",
   "metadata": {},
   "source": [
    "## Author ##\n",
    "Rudy Alonso Morales Oliva"
   ]
  },
  {
   "cell_type": "code",
   "execution_count": null,
   "id": "bbebe6ea-e3dc-4413-8466-4fb2bed9e9fc",
   "metadata": {},
   "outputs": [],
   "source": []
  }
 ],
 "metadata": {
  "kernelspec": {
   "display_name": "Python 3 (ipykernel)",
   "language": "python",
   "name": "python3"
  },
  "language_info": {
   "codemirror_mode": {
    "name": "ipython",
    "version": 3
   },
   "file_extension": ".py",
   "mimetype": "text/x-python",
   "name": "python",
   "nbconvert_exporter": "python",
   "pygments_lexer": "ipython3",
   "version": "3.12.7"
  }
 },
 "nbformat": 4,
 "nbformat_minor": 5
}
